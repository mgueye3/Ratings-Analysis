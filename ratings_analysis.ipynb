{
 "cells": [
  {
   "cell_type": "markdown",
   "id": "44c2a9bc-ddf6-4be5-8e5c-2bff9d67f069",
   "metadata": {},
   "source": [
    "\n",
    "**Description:**\n",
    "\n",
    "This script analyzes a dataset of user ratings. It provides the following functionalities:\n",
    "1. **Counts occurrences of a specific rating.**\n",
    "2. **Displays a summary of all rating frequencies.**\n",
    "3. **Identifies users who gave the highest and lowest ratings.**\n"
   ]
  },
  {
   "cell_type": "code",
   "execution_count": null,
   "id": "1a2e32a5-605a-4ac5-af21-a2de65810c91",
   "metadata": {},
   "outputs": [],
   "source": [
    "def count_specific_rating(ratings_list):\n",
    "    \"\"\"Counts occurrences of a specific rating provided by the user.\"\"\"\n",
    "    try:\n",
    "        rating = int(input(\"Please enter a rating (1-5): \"))\n",
    "        if rating not in range(1, 6):\n",
    "            print(\"Invalid rating. Please enter a number between 1 and 5.\")\n",
    "            return\n",
    "        \n",
    "        count = ratings_list.count(rating)\n",
    "        print(f\"{count} ratings from our dataset have a value of {rating}.\")\n",
    "    except ValueError:\n",
    "        print(\"Invalid input. Please enter a numeric value.\")\n",
    "\n",
    "def display_rating_summary(ratings_list):\n",
    "    \"\"\"Displays the frequency of each rating (1-5).\"\"\"\n",
    "    rating_counts = {i: ratings_list.count(i) for i in range(1, 6)}\n",
    "    print(\"\\nRating Summary:\")\n",
    "    for rating, count in rating_counts.items():\n",
    "        print(f\"Rating {rating}: {count}\")\n",
    "\n",
    "def identify_extreme_raters(ratings_list, names_list):\n",
    "    \"\"\"Identifies users who gave the highest and lowest ratings.\"\"\"\n",
    "    data = list(zip(names_list, ratings_list))\n",
    "    highest_raters = [name for name, rating in data if rating == max(ratings_list)]\n",
    "    lowest_raters = [name for name, rating in data if rating == min(ratings_list)]\n",
    "    \n",
    "    print(\"\\nHighest rating is 5, given by:\", \", \".join(highest_raters))\n",
    "    print(\"Lowest rating is 1, given by:\", \", \".join(lowest_raters))\n",
    "\n",
    "def main():\n",
    "    \"\"\"Main function to execute rating analysis operations.\"\"\"\n",
    "    ratings_list = [4,5,1,2,3,5,4,2,3,1,5,4,4,3] \n",
    "    names_list = [\"John\", \"Alex\", \"Anna\", \"Max\", \"Allen\", \"Bria\", \"David\", \"Jane\", \"Cathy\", \"Jecissa\", \"Grace\", \"Nick\", \"Paul\", \"Hans\"]\n",
    "    \n",
    "    while True:\n",
    "        print(\"\"\"\n",
    "1. Count a specific rating\n",
    "2. Display rating summary\n",
    "3. Identify highest and lowest raters\n",
    "4. Exit\n",
    "\"\"\")\n",
    "        choice = input(\"Enter the number to perform an operation: \").strip()\n",
    "        \n",
    "        if choice == '1':\n",
    "            count_specific_rating(ratings_list)\n",
    "        elif choice == '2':\n",
    "            display_rating_summary(ratings_list)\n",
    "        elif choice == '3':\n",
    "            identify_extreme_raters(ratings_list, names_list)\n",
    "        elif choice == '4':\n",
    "            print(\"Exiting program.\")\n",
    "            break\n",
    "        else:\n",
    "            print(\"Invalid choice. Please enter a number between 1 and 4.\")\n",
    "\n",
    "if __name__ == \"__main__\":\n",
    "    main()\n"
   ]
  }
 ],
 "metadata": {
  "kernelspec": {
   "display_name": "Python 3 (ipykernel)",
   "language": "python",
   "name": "python3"
  },
  "language_info": {
   "codemirror_mode": {
    "name": "ipython",
    "version": 3
   },
   "file_extension": ".py",
   "mimetype": "text/x-python",
   "name": "python",
   "nbconvert_exporter": "python",
   "pygments_lexer": "ipython3",
   "version": "3.13.2"
  }
 },
 "nbformat": 4,
 "nbformat_minor": 5
}
